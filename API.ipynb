{
 "cells": [
  {
   "cell_type": "code",
   "execution_count": null,
   "metadata": {},
   "outputs": [],
   "source": [
    "# Making API requests in Python\n",
    "# request to postcode.io API"
   ]
  },
  {
   "cell_type": "code",
   "execution_count": 11,
   "metadata": {},
   "outputs": [],
   "source": [
    "import json\n",
    "import requests"
   ]
  },
  {
   "cell_type": "code",
   "execution_count": null,
   "metadata": {},
   "outputs": [],
   "source": []
  },
  {
   "cell_type": "code",
   "execution_count": 18,
   "metadata": {},
   "outputs": [],
   "source": [
    "response = requests.get(\"https://api.postcodes.io/postcodes/E143GB\")"
   ]
  },
  {
   "cell_type": "code",
   "execution_count": 19,
   "metadata": {},
   "outputs": [
    {
     "data": {
      "text/plain": [
       "requests.models.Response"
      ]
     },
     "execution_count": 19,
     "metadata": {},
     "output_type": "execute_result"
    }
   ],
   "source": [
    "response.status_code\n",
    "type(response)"
   ]
  },
  {
   "cell_type": "code",
   "execution_count": 20,
   "metadata": {},
   "outputs": [],
   "source": [
    "response_dict = response.json()"
   ]
  },
  {
   "cell_type": "code",
   "execution_count": 32,
   "metadata": {},
   "outputs": [
    {
     "data": {
      "text/plain": [
       "{'status': 200,\n",
       " 'result': {'postcode': 'E14 3GB',\n",
       "  'quality': 1,\n",
       "  'eastings': 538564,\n",
       "  'northings': 178970,\n",
       "  'country': 'England',\n",
       "  'nhs_ha': 'London',\n",
       "  'longitude': -0.005446,\n",
       "  'latitude': 51.492702,\n",
       "  'european_electoral_region': 'London',\n",
       "  'primary_care_trust': 'Tower Hamlets',\n",
       "  'region': 'London',\n",
       "  'lsoa': 'Tower Hamlets 030D',\n",
       "  'msoa': 'Tower Hamlets 030',\n",
       "  'incode': '3GB',\n",
       "  'outcode': 'E14',\n",
       "  'parliamentary_constituency': 'Poplar and Limehouse',\n",
       "  'admin_district': 'Tower Hamlets',\n",
       "  'parish': 'Tower Hamlets, unparished area',\n",
       "  'admin_county': None,\n",
       "  'date_of_introduction': '199806',\n",
       "  'admin_ward': 'Blackwall & Cubitt Town',\n",
       "  'ced': None,\n",
       "  'ccg': 'NHS North East London',\n",
       "  'nuts': 'Tower Hamlets',\n",
       "  'pfa': 'Metropolitan Police',\n",
       "  'codes': {'admin_district': 'E09000030',\n",
       "   'admin_county': 'E99999999',\n",
       "   'admin_ward': 'E05009318',\n",
       "   'parish': 'E43000220',\n",
       "   'parliamentary_constituency': 'E14000882',\n",
       "   'ccg': 'E38000255',\n",
       "   'ccg_id': 'A3A8R',\n",
       "   'ced': 'E99999999',\n",
       "   'nuts': 'TLI42',\n",
       "   'lsoa': 'E01004218',\n",
       "   'msoa': 'E02000893',\n",
       "   'lau2': 'E09000030',\n",
       "   'pfa': 'E23000001'}}}"
      ]
     },
     "execution_count": 32,
     "metadata": {},
     "output_type": "execute_result"
    }
   ],
   "source": [
    "response_dict"
   ]
  },
  {
   "attachments": {},
   "cell_type": "markdown",
   "metadata": {},
   "source": [
    "Post Requests"
   ]
  },
  {
   "cell_type": "code",
   "execution_count": 31,
   "metadata": {},
   "outputs": [
    {
     "data": {
      "text/plain": [
       "{'status': 200,\n",
       " 'result': [{'query': 'OX49 5NU',\n",
       "   'result': {'postcode': 'OX49 5NU',\n",
       "    'quality': 1,\n",
       "    'eastings': 464447,\n",
       "    'northings': 195647,\n",
       "    'country': 'England',\n",
       "    'nhs_ha': 'South Central',\n",
       "    'longitude': -1.069752,\n",
       "    'latitude': 51.655929,\n",
       "    'european_electoral_region': 'South East',\n",
       "    'primary_care_trust': 'Oxfordshire',\n",
       "    'region': 'South East',\n",
       "    'lsoa': 'South Oxfordshire 011B',\n",
       "    'msoa': 'South Oxfordshire 011',\n",
       "    'incode': '5NU',\n",
       "    'outcode': 'OX49',\n",
       "    'parliamentary_constituency': 'Henley',\n",
       "    'admin_district': 'South Oxfordshire',\n",
       "    'parish': 'Brightwell Baldwin',\n",
       "    'admin_county': 'Oxfordshire',\n",
       "    'date_of_introduction': '200010',\n",
       "    'admin_ward': 'Chalgrove',\n",
       "    'ced': 'Chalgrove and Watlington',\n",
       "    'ccg': 'NHS Buckinghamshire, Oxfordshire and Berkshire West',\n",
       "    'nuts': 'Oxfordshire CC',\n",
       "    'pfa': 'Thames Valley',\n",
       "    'codes': {'admin_district': 'E07000179',\n",
       "     'admin_county': 'E10000025',\n",
       "     'admin_ward': 'E05009735',\n",
       "     'parish': 'E04008109',\n",
       "     'parliamentary_constituency': 'E14000742',\n",
       "     'ccg': 'E38000136',\n",
       "     'ccg_id': '10Q',\n",
       "     'ced': 'E58001732',\n",
       "     'nuts': 'TLJ14',\n",
       "     'lsoa': 'E01028601',\n",
       "     'msoa': 'E02005968',\n",
       "     'lau2': 'E07000179',\n",
       "     'pfa': 'E23000029'}}},\n",
       "  {'query': 'M32 0JG',\n",
       "   'result': {'postcode': 'M32 0JG',\n",
       "    'quality': 1,\n",
       "    'eastings': 379988,\n",
       "    'northings': 395476,\n",
       "    'country': 'England',\n",
       "    'nhs_ha': 'North West',\n",
       "    'longitude': -2.302836,\n",
       "    'latitude': 53.455654,\n",
       "    'european_electoral_region': 'North West',\n",
       "    'primary_care_trust': 'Trafford',\n",
       "    'region': 'North West',\n",
       "    'lsoa': 'Trafford 003C',\n",
       "    'msoa': 'Trafford 003',\n",
       "    'incode': '0JG',\n",
       "    'outcode': 'M32',\n",
       "    'parliamentary_constituency': 'Stretford and Urmston',\n",
       "    'admin_district': 'Trafford',\n",
       "    'parish': 'Trafford, unparished area',\n",
       "    'admin_county': None,\n",
       "    'date_of_introduction': '198001',\n",
       "    'admin_ward': 'Gorse Hill',\n",
       "    'ced': None,\n",
       "    'ccg': 'NHS Greater Manchester',\n",
       "    'nuts': 'Greater Manchester South West',\n",
       "    'pfa': 'Greater Manchester',\n",
       "    'codes': {'admin_district': 'E08000009',\n",
       "     'admin_county': 'E99999999',\n",
       "     'admin_ward': 'E05000829',\n",
       "     'parish': 'E43000163',\n",
       "     'parliamentary_constituency': 'E14000979',\n",
       "     'ccg': 'E38000187',\n",
       "     'ccg_id': '02A',\n",
       "     'ced': 'E99999999',\n",
       "     'nuts': 'TLD34',\n",
       "     'lsoa': 'E01006187',\n",
       "     'msoa': 'E02001261',\n",
       "     'lau2': 'E08000009',\n",
       "     'pfa': 'E23000005'}}},\n",
       "  {'query': 'NE30 1DP',\n",
       "   'result': {'postcode': 'NE30 1DP',\n",
       "    'quality': 1,\n",
       "    'eastings': 435958,\n",
       "    'northings': 568671,\n",
       "    'country': 'England',\n",
       "    'nhs_ha': 'North East',\n",
       "    'longitude': -1.439269,\n",
       "    'latitude': 55.011303,\n",
       "    'european_electoral_region': 'North East',\n",
       "    'primary_care_trust': 'North Tyneside',\n",
       "    'region': 'North East',\n",
       "    'lsoa': 'North Tyneside 016C',\n",
       "    'msoa': 'North Tyneside 016',\n",
       "    'incode': '1DP',\n",
       "    'outcode': 'NE30',\n",
       "    'parliamentary_constituency': 'Tynemouth',\n",
       "    'admin_district': 'North Tyneside',\n",
       "    'parish': 'North Tyneside, unparished area',\n",
       "    'admin_county': None,\n",
       "    'date_of_introduction': '201303',\n",
       "    'admin_ward': 'Tynemouth',\n",
       "    'ced': None,\n",
       "    'ccg': 'NHS North East and North Cumbria',\n",
       "    'nuts': 'Tyneside',\n",
       "    'pfa': 'Northumbria',\n",
       "    'codes': {'admin_district': 'E08000022',\n",
       "     'admin_county': 'E99999999',\n",
       "     'admin_ward': 'E05001130',\n",
       "     'parish': 'E43000176',\n",
       "     'parliamentary_constituency': 'E14001006',\n",
       "     'ccg': 'E38000127',\n",
       "     'ccg_id': '99C',\n",
       "     'ced': 'E99999999',\n",
       "     'nuts': 'TLC22',\n",
       "     'lsoa': 'E01008561',\n",
       "     'msoa': 'E02001753',\n",
       "     'lau2': 'E08000022',\n",
       "     'pfa': 'E23000007'}}}]}"
      ]
     },
     "execution_count": 31,
     "metadata": {},
     "output_type": "execute_result"
    }
   ],
   "source": [
    "post_requests = {\"postcodes\": [\"OX49 5NU\",\"M32 0JG\",\"NE30 1DP\"]}\n",
    "json_body = json.dumps(post_requests) #dumps converst python to json\n",
    "headers= {'Content-Type': 'application/json'} #headers are necessary for post requests\n",
    "post_multi_response = requests.post(\"https://api.postcodes.io/postcodes\",headers = headers,data = json_body) # post request to postcodes\n",
    "# io API with json body\n",
    "post_multi_response.status_code   #status code 200 means request was successful\n",
    "post_multi_response.json()        #json response"
   ]
  },
  {
   "cell_type": "code",
   "execution_count": 26,
   "metadata": {},
   "outputs": [
    {
     "data": {
      "text/plain": [
       "str"
      ]
     },
     "execution_count": 26,
     "metadata": {},
     "output_type": "execute_result"
    }
   ],
   "source": [
    "type(json_body)"
   ]
  },
  {
   "cell_type": "code",
   "execution_count": null,
   "metadata": {},
   "outputs": [],
   "source": []
  }
 ],
 "metadata": {
  "kernelspec": {
   "display_name": ".venv",
   "language": "python",
   "name": "python3"
  },
  "language_info": {
   "codemirror_mode": {
    "name": "ipython",
    "version": 3
   },
   "file_extension": ".py",
   "mimetype": "text/x-python",
   "name": "python",
   "nbconvert_exporter": "python",
   "pygments_lexer": "ipython3",
   "version": "3.10.8"
  },
  "orig_nbformat": 4
 },
 "nbformat": 4,
 "nbformat_minor": 2
}
